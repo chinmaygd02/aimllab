{
 "cells": [
  {
   "cell_type": "code",
   "execution_count": 2,
   "id": "20132732",
   "metadata": {},
   "outputs": [],
   "source": [
    "from sklearn.datasets import make_moons\n",
    "from sklearn.pipeline import Pipeline\n",
    "from sklearn.preprocessing import PolynomialFeatures\n",
    "from sklearn.preprocessing import StandardScaler\n",
    "from sklearn.svm import SVC"
   ]
  },
  {
   "cell_type": "code",
   "execution_count": 3,
   "id": "3aec3c73",
   "metadata": {},
   "outputs": [],
   "source": [
    "import numpy as np\n",
    "%matplotlib inline\n",
    "import matplotlib.pyplot as plt"
   ]
  },
  {
   "cell_type": "code",
   "execution_count": 4,
   "id": "d4ad81f0",
   "metadata": {},
   "outputs": [],
   "source": [
    "X,y = make_moons(n_samples=100,noise=0.15,random_state=42)"
   ]
  },
  {
   "cell_type": "code",
   "execution_count": 5,
   "id": "2859dd4c",
   "metadata": {},
   "outputs": [],
   "source": [
    "def plot_dataset(X,y,axes):\n",
    "    plt.plot(X[:,0][y==0],X[:,1][y==0],\"bs\")\n",
    "    plt.plot(X[:,0][y==1],X[:,1][y==1],\"ms\")\n",
    "    plt.axis(axes)\n",
    "    plt.grid(True,which='both')\n",
    "    plt.xlabel(r\"$x_1$\",fontsize=20)\n",
    "    plt.ylabel(r\"$x_2$\",fontsize=20,rotation=0)"
   ]
  },
  {
   "cell_type": "code",
   "execution_count": 6,
   "id": "2a8c25ac",
   "metadata": {},
   "outputs": [
    {
     "data": {
      "image/png": "[encoded data removed]",
      "text/plain": [
       "<Figure size 432x288 with 1 Axes>"
      ]
     },
     "metadata": {
      "needs_background": "light"
     },
     "output_type": "display_data"
    }
   ],
   "source": [
    "plot_dataset(X,y,[-1.5,2.5,-1,1.5])\n",
    "plt.show()"
   ]
  },
  {
   "cell_type": "code",
   "execution_count": 7,
   "id": "e94e4abb",
   "metadata": {},
   "outputs": [],
   "source": [
    "def plot_predictions(clf,axes):\n",
    "    x0s = np.linspace(axes[0],axes[1],100)\n",
    "    x1s = np.linspace(axes[2],axes[3],100)\n",
    "    x0,x1 = np.meshgrid(x0s,x1s)\n",
    "    X = np.c_[x0.ravel(),x1.ravel()]\n",
    "    y_pred = clf.predict(X).reshape(x0.shape)\n",
    "    y_decision = clf.decision_function(X).reshape(x0.shape)\n",
    "    plt.contourf(x0,x1,y_pred,cmap=plt.cm.brg,alpha=0.2)\n",
    "    plt.contourf(x0,x1,y_decision,cmap=plt.cm.brg,alpha=0.1)"
   ]
  },
  {
   "cell_type": "code",
   "execution_count": 10,
   "id": "d4533fbf",
   "metadata": {},
   "outputs": [],
   "source": [
    "polynomial_svm_clf=Pipeline(((\"poly_features\",PolynomialFeatures(degree=3)),(\"scalar\",StandardScaler()),(\"svm_clf\",SVC(kernel=\"poly\",degree=10,coef0=1,C=5))))"
   ]
  },
  {
   "cell_type": "code",
   "execution_count": 11,
   "id": "a886ccdc",
   "metadata": {},
   "outputs": [
    {
     "data": {
      "text/plain": [
       "Pipeline(steps=[('poly_features', PolynomialFeatures(degree=3)),\n",
       "                ('scalar', StandardScaler()),\n",
       "                ('svm_clf', SVC(C=5, coef0=1, degree=10, kernel='poly'))])"
      ]
     },
     "execution_count": 11,
     "metadata": {},
     "output_type": "execute_result"
    }
   ],
   "source": [
    "polynomial_svm_clf.fit(X,y)"
   ]
  },
  {
   "cell_type": "code",
   "execution_count": 12,
   "id": "efaece00",
   "metadata": {},
   "outputs": [
    {
     "data": {
      "text/plain": [
       "<Figure size 792x288 with 0 Axes>"
      ]
     },
     "execution_count": 12,
     "metadata": {},
     "output_type": "execute_result"
    },
    {
     "data": {
      "text/plain": [
       "<Figure size 792x288 with 0 Axes>"
      ]
     },
     "metadata": {},
     "output_type": "display_data"
    }
   ],
   "source": [
    "plt.figure(figsize=(11,4))"
   ]
  },
  {
   "cell_type": "code",
   "execution_count": 18,
   "id": "a4711d1f",
   "metadata": {},
   "outputs": [
    {
     "data": {
      "image/png": "[encoded data removed]",
      "text/plain": [
       "<Figure size 432x288 with 1 Axes>"
      ]
     },
     "metadata": {
      "needs_background": "light"
     },
     "output_type": "display_data"
    }
   ],
   "source": [
    "plot_predictions(polynomial_svm_clf,[-1.5,2.5,-1,1.5])\n",
    "plot_dataset(X,y,[-1.5,2.5,-1,1.5])\n",
    "plt.title(r\"$d=3,coef0=1,C=5$\",fontsize=18)\n",
    "plt.show()"
   ]
  },
  {
   "cell_type": "code",
   "execution_count": null,
   "id": "703ee340",
   "metadata": {},
   "outputs": [],
   "source": []
  }
 ],
 "metadata": {
  "kernelspec": {
   "display_name": "Python 3 (ipykernel)",
   "language": "python",
   "name": "python3"
  },
  "language_info": {
   "codemirror_mode": {
    "name": "ipython",
    "version": 3
   },
   "file_extension": ".py",
   "mimetype": "text/x-python",
   "name": "python",
   "nbconvert_exporter": "python",
   "pygments_lexer": "ipython3",
   "version": "3.9.12"
  }
 },
 "nbformat": 4,
 "nbformat_minor": 5
}
