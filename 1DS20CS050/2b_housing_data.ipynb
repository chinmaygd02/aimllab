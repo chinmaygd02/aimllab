{
 "cells": [
  {
   "cell_type": "code",
   "execution_count": 4,
   "id": "5ef7d27b",
   "metadata": {},
   "outputs": [],
   "source": [
    "import numpy as np\n",
    "import pandas as pd\n",
    "import matplotlib.pyplot as plt"
   ]
  },
  {
   "cell_type": "code",
   "execution_count": 5,
   "id": "50ff64cf",
   "metadata": {},
   "outputs": [],
   "source": [
    "%matplotlib inline"
   ]
  },
  {
   "cell_type": "code",
   "execution_count": 6,
   "id": "3507e704",
   "metadata": {},
   "outputs": [],
   "source": [
    "df = pd.read_csv(\"housing_prices_SLR.csv\",delimiter=',')"
   ]
  },
  {
   "cell_type": "code",
   "execution_count": 7,
   "id": "b306027d",
   "metadata": {},
   "outputs": [
    {
     "data": {
      "text/html": [
       "<div>\n",
       "<style scoped>\n",
       "    .dataframe tbody tr th:only-of-type {\n",
       "        vertical-align: middle;\n",
       "    }\n",
       "\n",
       "    .dataframe tbody tr th {\n",
       "        vertical-align: top;\n",
       "    }\n",
       "\n",
       "    .dataframe thead th {\n",
       "        text-align: right;\n",
       "    }\n",
       "</style>\n",
       "<table border=\"1\" class=\"dataframe\">\n",
       "  <thead>\n",
       "    <tr style=\"text-align: right;\">\n",
       "      <th></th>\n",
       "      <th>AREA</th>\n",
       "      <th>PRICE</th>\n",
       "    </tr>\n",
       "  </thead>\n",
       "  <tbody>\n",
       "    <tr>\n",
       "      <th>0</th>\n",
       "      <td>1000</td>\n",
       "      <td>5618</td>\n",
       "    </tr>\n",
       "    <tr>\n",
       "      <th>1</th>\n",
       "      <td>1030</td>\n",
       "      <td>5201</td>\n",
       "    </tr>\n",
       "    <tr>\n",
       "      <th>2</th>\n",
       "      <td>1060</td>\n",
       "      <td>4779</td>\n",
       "    </tr>\n",
       "    <tr>\n",
       "      <th>3</th>\n",
       "      <td>1090</td>\n",
       "      <td>5425</td>\n",
       "    </tr>\n",
       "    <tr>\n",
       "      <th>4</th>\n",
       "      <td>1120</td>\n",
       "      <td>5657</td>\n",
       "    </tr>\n",
       "  </tbody>\n",
       "</table>\n",
       "</div>"
      ],
      "text/plain": [
       "   AREA  PRICE\n",
       "0  1000   5618\n",
       "1  1030   5201\n",
       "2  1060   4779\n",
       "3  1090   5425\n",
       "4  1120   5657"
      ]
     },
     "execution_count": 7,
     "metadata": {},
     "output_type": "execute_result"
    }
   ],
   "source": [
    "df.head()"
   ]
  },
  {
   "cell_type": "code",
   "execution_count": 8,
   "id": "aad9a078",
   "metadata": {},
   "outputs": [],
   "source": [
    "x = df[['AREA']].values#feature Matrix"
   ]
  },
  {
   "cell_type": "code",
   "execution_count": 9,
   "id": "25da9428",
   "metadata": {},
   "outputs": [],
   "source": [
    "y = df.PRICE.values #Target Matrix"
   ]
  },
  {
   "cell_type": "code",
   "execution_count": 10,
   "id": "1b03fe49",
   "metadata": {},
   "outputs": [
    {
     "data": {
      "text/plain": [
       "array([[1000],\n",
       "       [1030],\n",
       "       [1060],\n",
       "       [1090],\n",
       "       [1120]], dtype=int64)"
      ]
     },
     "execution_count": 10,
     "metadata": {},
     "output_type": "execute_result"
    }
   ],
   "source": [
    "x[:5]"
   ]
  },
  {
   "cell_type": "code",
   "execution_count": 11,
   "id": "f418891a",
   "metadata": {},
   "outputs": [
    {
     "data": {
      "text/plain": [
       "array([5618, 5201, 4779, 5425, 5657], dtype=int64)"
      ]
     },
     "execution_count": 11,
     "metadata": {},
     "output_type": "execute_result"
    }
   ],
   "source": [
    "y[:5]"
   ]
  },
  {
   "cell_type": "code",
   "execution_count": 12,
   "id": "e45f70da",
   "metadata": {},
   "outputs": [],
   "source": [
    "from sklearn.model_selection import train_test_split\n",
    "x_train,x_test,y_train,y_test=train_test_split(x,y,test_size=0.2,random_state=100)"
   ]
  },
  {
   "cell_type": "code",
   "execution_count": 13,
   "id": "8e6b6ab0",
   "metadata": {},
   "outputs": [
    {
     "name": "stdout",
     "output_type": "stream",
     "text": [
      "(40, 1)\n",
      "(10, 1)\n",
      "(40, 1)\n",
      "(10, 1)\n"
     ]
    }
   ],
   "source": [
    "print(x_train.shape)\n",
    "print(x_test.shape)\n",
    "print(x_train.shape)\n",
    "print(x_test.shape)\n"
   ]
  },
  {
   "cell_type": "code",
   "execution_count": 14,
   "id": "ea98340a",
   "metadata": {},
   "outputs": [
    {
     "name": "stdout",
     "output_type": "stream",
     "text": [
      "-3103.34066448488\n",
      "[7.75979089]\n"
     ]
    }
   ],
   "source": [
    "from sklearn.linear_model import LinearRegression\n",
    "lr_model= LinearRegression()\n",
    "lr_model.fit(x_train,y_train)\n",
    "print(lr_model.intercept_) \n",
    "print(lr_model.coef_)"
   ]
  },
  {
   "cell_type": "code",
   "execution_count": 15,
   "id": "e4346137",
   "metadata": {},
   "outputs": [
    {
     "name": "stdout",
     "output_type": "stream",
     "text": [
      "0.0\n",
      "[6.03609138]\n"
     ]
    }
   ],
   "source": [
    "lr_model=LinearRegression(fit_intercept= False)\n",
    "lr_model.fit(x_train,y_train)\n",
    "print(lr_model.intercept_) \n",
    "print(lr_model.coef_)"
   ]
  },
  {
   "cell_type": "code",
   "execution_count": 16,
   "id": "ad34d69b",
   "metadata": {},
   "outputs": [
    {
     "data": {
      "text/plain": [
       "array([ 6036.09138021,  8028.00153568,  9295.58072552, 14184.81474349,\n",
       "       12917.23555365, 10563.15991537, 10744.24265677, 12373.98732943,\n",
       "        9114.49798412,  7303.67057005, 14546.9802263 , 11649.6563638 ,\n",
       "       11830.73910521,  9476.66346693,  9838.82894974,  8390.16701849,\n",
       "        6217.17412162,  6760.42234583,  8209.08427708, 10925.32539818,\n",
       "       13279.40103646, 10019.91169115, 11287.49088099,  7665.83605287,\n",
       "        8933.41524271, 14003.73200208, 14728.06296771, 14365.8974849 ,\n",
       "        8571.2497599 , 13460.48377787,  6398.25686302, 12192.90458802,\n",
       "       11468.5736224 ,  7846.91879427,  8752.3325013 , 10200.99443255,\n",
       "       13098.31829505,  6579.33960443, 10382.07717396,  7484.75331146])"
      ]
     },
     "execution_count": 16,
     "metadata": {},
     "output_type": "execute_result"
    }
   ],
   "source": [
    "from sklearn.metrics import r2_score\n",
    "y_train\n",
    "lr_model.predict(x_train)"
   ]
  },
  {
   "cell_type": "code",
   "execution_count": 17,
   "id": "388fa637",
   "metadata": {},
   "outputs": [
    {
     "data": {
      "text/plain": [
       "0.820250203127675"
      ]
     },
     "execution_count": 17,
     "metadata": {},
     "output_type": "execute_result"
    }
   ],
   "source": [
    "r2_score(y_train,lr_model.predict(x_train))"
   ]
  },
  {
   "cell_type": "code",
   "execution_count": 18,
   "id": "cbc3ffe1",
   "metadata": {},
   "outputs": [
    {
     "data": {
      "text/plain": [
       "0.5059420550739799"
      ]
     },
     "execution_count": 18,
     "metadata": {},
     "output_type": "execute_result"
    }
   ],
   "source": [
    "r2_score(y_test,lr_model.predict(x_test))"
   ]
  },
  {
   "cell_type": "code",
   "execution_count": 19,
   "id": "59264b98",
   "metadata": {},
   "outputs": [
    {
     "data": {
      "text/plain": [
       "0.5059420550739799"
      ]
     },
     "execution_count": 19,
     "metadata": {},
     "output_type": "execute_result"
    }
   ],
   "source": [
    "lr_model.score(x_test,y_test) "
   ]
  },
  {
   "cell_type": "code",
   "execution_count": 20,
   "id": "d6081b8b",
   "metadata": {},
   "outputs": [
    {
     "data": {
      "text/plain": [
       "[<matplotlib.lines.Line2D at 0x1718e637610>]"
      ]
     },
     "execution_count": 20,
     "metadata": {},
     "output_type": "execute_result"
    },
    {
     "data": {
      "image/png": "[encoded data removed]",
      "text/plain": [
       "<Figure size 432x288 with 1 Axes>"
      ]
     },
     "metadata": {
      "needs_background": "light"
     },
     "output_type": "display_data"
    }
   ],
   "source": [
    "plt.scatter(x_train[:,0],y_train,c='red')\n",
    "plt.scatter(x_test[:,0],y_test,c='blue')\n",
    "plt.plot(x_train[:,0],lr_model.predict(x_train),c='y')"
   ]
  },
  {
   "cell_type": "code",
   "execution_count": null,
   "id": "56e21c8f",
   "metadata": {},
   "outputs": [],
   "source": []
  }
 ],
 "metadata": {
  "kernelspec": {
   "display_name": "Python 3 (ipykernel)",
   "language": "python",
   "name": "python3"
  },
  "language_info": {
   "codemirror_mode": {
    "name": "ipython",
    "version": 3
   },
   "file_extension": ".py",
   "mimetype": "text/x-python",
   "name": "python",
   "nbconvert_exporter": "python",
   "pygments_lexer": "ipython3",
   "version": "3.9.12"
  }
 },
 "nbformat": 4,
 "nbformat_minor": 5
}
