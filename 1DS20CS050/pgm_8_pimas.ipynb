{
 "cells": [
  {
   "cell_type": "code",
   "execution_count": 36,
   "id": "a875c139",
   "metadata": {},
   "outputs": [],
   "source": [
    "from numpy import loadtxt\n",
    "import numpy as np\n",
    "import pandas as pd\n",
    "from keras import models\n",
    "from keras.models import Sequential\n",
    "from keras.layers import Dense\n",
    "from keras import layers\n",
    "from sklearn.model_selection import train_test_split\n",
    "from sklearn import preprocessing\n",
    "import matplotlib.pyplot as plt"
   ]
  },
  {
   "cell_type": "code",
   "execution_count": 37,
   "id": "1041b57b",
   "metadata": {},
   "outputs": [
    {
     "data": {
      "text/html": [
       "<div>\n",
       "<style scoped>\n",
       "    .dataframe tbody tr th:only-of-type {\n",
       "        vertical-align: middle;\n",
       "    }\n",
       "\n",
       "    .dataframe tbody tr th {\n",
       "        vertical-align: top;\n",
       "    }\n",
       "\n",
       "    .dataframe thead th {\n",
       "        text-align: right;\n",
       "    }\n",
       "</style>\n",
       "<table border=\"1\" class=\"dataframe\">\n",
       "  <thead>\n",
       "    <tr style=\"text-align: right;\">\n",
       "      <th></th>\n",
       "      <th>6</th>\n",
       "      <th>148</th>\n",
       "      <th>72</th>\n",
       "      <th>35</th>\n",
       "      <th>0</th>\n",
       "      <th>33.6</th>\n",
       "      <th>0.627</th>\n",
       "      <th>50</th>\n",
       "      <th>1</th>\n",
       "    </tr>\n",
       "  </thead>\n",
       "  <tbody>\n",
       "    <tr>\n",
       "      <th>0</th>\n",
       "      <td>1</td>\n",
       "      <td>85</td>\n",
       "      <td>66</td>\n",
       "      <td>29</td>\n",
       "      <td>0</td>\n",
       "      <td>26.6</td>\n",
       "      <td>0.351</td>\n",
       "      <td>31</td>\n",
       "      <td>0</td>\n",
       "    </tr>\n",
       "    <tr>\n",
       "      <th>1</th>\n",
       "      <td>8</td>\n",
       "      <td>183</td>\n",
       "      <td>64</td>\n",
       "      <td>0</td>\n",
       "      <td>0</td>\n",
       "      <td>23.3</td>\n",
       "      <td>0.672</td>\n",
       "      <td>32</td>\n",
       "      <td>1</td>\n",
       "    </tr>\n",
       "    <tr>\n",
       "      <th>2</th>\n",
       "      <td>1</td>\n",
       "      <td>89</td>\n",
       "      <td>66</td>\n",
       "      <td>23</td>\n",
       "      <td>94</td>\n",
       "      <td>28.1</td>\n",
       "      <td>0.167</td>\n",
       "      <td>21</td>\n",
       "      <td>0</td>\n",
       "    </tr>\n",
       "    <tr>\n",
       "      <th>3</th>\n",
       "      <td>0</td>\n",
       "      <td>137</td>\n",
       "      <td>40</td>\n",
       "      <td>35</td>\n",
       "      <td>168</td>\n",
       "      <td>43.1</td>\n",
       "      <td>2.288</td>\n",
       "      <td>33</td>\n",
       "      <td>1</td>\n",
       "    </tr>\n",
       "    <tr>\n",
       "      <th>4</th>\n",
       "      <td>5</td>\n",
       "      <td>116</td>\n",
       "      <td>74</td>\n",
       "      <td>0</td>\n",
       "      <td>0</td>\n",
       "      <td>25.6</td>\n",
       "      <td>0.201</td>\n",
       "      <td>30</td>\n",
       "      <td>0</td>\n",
       "    </tr>\n",
       "  </tbody>\n",
       "</table>\n",
       "</div>"
      ],
      "text/plain": [
       "   6  148  72  35    0  33.6  0.627  50  1\n",
       "0  1   85  66  29    0  26.6  0.351  31  0\n",
       "1  8  183  64   0    0  23.3  0.672  32  1\n",
       "2  1   89  66  23   94  28.1  0.167  21  0\n",
       "3  0  137  40  35  168  43.1  2.288  33  1\n",
       "4  5  116  74   0    0  25.6  0.201  30  0"
      ]
     },
     "execution_count": 37,
     "metadata": {},
     "output_type": "execute_result"
    }
   ],
   "source": [
    "dataframe = pd.read_csv('pima-indians-diabetes.csv',delimiter=',')\n",
    "dataframe.head()"
   ]
  },
  {
   "cell_type": "code",
   "execution_count": 27,
   "id": "8740f900",
   "metadata": {},
   "outputs": [],
   "source": [
    "X = dataframe.iloc[:,:8]\n",
    "y = dataframe.iloc[:,8]"
   ]
  },
  {
   "cell_type": "code",
   "execution_count": 28,
   "id": "51a384c9",
   "metadata": {},
   "outputs": [
    {
     "data": {
      "text/plain": [
       "(767, 9)"
      ]
     },
     "execution_count": 28,
     "metadata": {},
     "output_type": "execute_result"
    }
   ],
   "source": [
    "dataframe.shape"
   ]
  },
  {
   "cell_type": "code",
   "execution_count": 29,
   "id": "27a3e93f",
   "metadata": {},
   "outputs": [],
   "source": [
    "features_train,features_test,target_train,target_test = train_test_split(X,y,test_size=0.33,random_state=0)"
   ]
  },
  {
   "cell_type": "code",
   "execution_count": 30,
   "id": "897732bc",
   "metadata": {
    "scrolled": true
   },
   "outputs": [
    {
     "name": "stdout",
     "output_type": "stream",
     "text": [
      "Epoch 1/20\n",
      "6/6 [==============================] - 1s 29ms/step - loss: 11.0030 - accuracy: 0.4893 - val_loss: 10.9931 - val_accuracy: 0.4843\n",
      "Epoch 2/20\n",
      "6/6 [==============================] - 0s 5ms/step - loss: 9.1791 - accuracy: 0.4776 - val_loss: 9.2679 - val_accuracy: 0.4921\n",
      "Epoch 3/20\n",
      "6/6 [==============================] - 0s 5ms/step - loss: 7.4801 - accuracy: 0.5049 - val_loss: 7.6694 - val_accuracy: 0.4882\n",
      "Epoch 4/20\n",
      "6/6 [==============================] - 0s 5ms/step - loss: 6.2211 - accuracy: 0.4912 - val_loss: 6.4412 - val_accuracy: 0.5236\n",
      "Epoch 5/20\n",
      "6/6 [==============================] - 0s 5ms/step - loss: 5.3038 - accuracy: 0.4795 - val_loss: 5.4935 - val_accuracy: 0.5000\n",
      "Epoch 6/20\n",
      "6/6 [==============================] - 0s 5ms/step - loss: 4.5751 - accuracy: 0.4698 - val_loss: 4.8093 - val_accuracy: 0.4921\n",
      "Epoch 7/20\n",
      "6/6 [==============================] - 0s 5ms/step - loss: 4.1092 - accuracy: 0.4542 - val_loss: 4.2904 - val_accuracy: 0.4882\n",
      "Epoch 8/20\n",
      "6/6 [==============================] - 0s 5ms/step - loss: 3.7776 - accuracy: 0.4737 - val_loss: 3.9203 - val_accuracy: 0.5315\n",
      "Epoch 9/20\n",
      "6/6 [==============================] - 0s 5ms/step - loss: 3.5557 - accuracy: 0.5068 - val_loss: 3.6304 - val_accuracy: 0.5551\n",
      "Epoch 10/20\n",
      "6/6 [==============================] - 0s 5ms/step - loss: 3.2924 - accuracy: 0.4971 - val_loss: 3.3710 - val_accuracy: 0.5551\n",
      "Epoch 11/20\n",
      "6/6 [==============================] - 0s 5ms/step - loss: 3.1110 - accuracy: 0.5029 - val_loss: 3.1423 - val_accuracy: 0.5591\n",
      "Epoch 12/20\n",
      "6/6 [==============================] - 0s 5ms/step - loss: 2.8897 - accuracy: 0.5029 - val_loss: 2.9629 - val_accuracy: 0.6063\n",
      "Epoch 13/20\n",
      "6/6 [==============================] - 0s 5ms/step - loss: 2.7295 - accuracy: 0.5322 - val_loss: 2.7756 - val_accuracy: 0.6142\n",
      "Epoch 14/20\n",
      "6/6 [==============================] - 0s 4ms/step - loss: 2.5236 - accuracy: 0.5341 - val_loss: 2.5921 - val_accuracy: 0.5551\n",
      "Epoch 15/20\n",
      "6/6 [==============================] - 0s 5ms/step - loss: 2.3710 - accuracy: 0.5127 - val_loss: 2.4364 - val_accuracy: 0.5630\n",
      "Epoch 16/20\n",
      "6/6 [==============================] - 0s 5ms/step - loss: 2.1457 - accuracy: 0.5439 - val_loss: 2.2221 - val_accuracy: 0.6299\n",
      "Epoch 17/20\n",
      "6/6 [==============================] - 0s 5ms/step - loss: 1.9998 - accuracy: 0.5809 - val_loss: 2.0358 - val_accuracy: 0.6220\n",
      "Epoch 18/20\n",
      "6/6 [==============================] - 0s 5ms/step - loss: 1.7516 - accuracy: 0.5653 - val_loss: 1.9765 - val_accuracy: 0.6024\n",
      "Epoch 19/20\n",
      "6/6 [==============================] - 0s 5ms/step - loss: 1.6700 - accuracy: 0.5380 - val_loss: 1.7267 - val_accuracy: 0.6260\n",
      "Epoch 20/20\n",
      "6/6 [==============================] - 0s 5ms/step - loss: 1.4907 - accuracy: 0.6218 - val_loss: 1.5991 - val_accuracy: 0.6654\n"
     ]
    }
   ],
   "source": [
    "network = models.Sequential()\n",
    "network.add(Dense(units=8,activation=\"relu\",input_shape=(features_train.shape[1],)))\n",
    "network.add(Dense(units=8,activation=\"relu\"))\n",
    "network.add(Dense(units=1,activation=\"sigmoid\"))\n",
    "network.compile(loss='binary_crossentropy',optimizer='adam',metrics=['accuracy'])\n",
    "history=network.fit(features_train,target_train,epochs=20,verbose=1,batch_size=100,validation_data=(features_test,target_test))"
   ]
  },
  {
   "cell_type": "code",
   "execution_count": 38,
   "id": "59125df8",
   "metadata": {},
   "outputs": [],
   "source": [
    "training_loss=history.history[\"loss\"]"
   ]
  },
  {
   "cell_type": "code",
   "execution_count": null,
   "id": "a33352ad",
   "metadata": {},
   "outputs": [],
   "source": []
  },
  {
   "cell_type": "code",
   "execution_count": 39,
   "id": "650d4a33",
   "metadata": {},
   "outputs": [],
   "source": [
    "test_loss=history.history[\"val_loss\"]"
   ]
  },
  {
   "cell_type": "code",
   "execution_count": 40,
   "id": "f99cea1a",
   "metadata": {},
   "outputs": [],
   "source": [
    "epoch_count=range(1,len(training_loss)+1)"
   ]
  },
  {
   "cell_type": "code",
   "execution_count": 41,
   "id": "9660f9c3",
   "metadata": {},
   "outputs": [
    {
     "data": {
      "image/png": "[encoded data removed]",
      "text/plain": [
       "<Figure size 432x288 with 1 Axes>"
      ]
     },
     "metadata": {
      "needs_background": "light"
     },
     "output_type": "display_data"
    }
   ],
   "source": [
    "plt.plot(epoch_count,training_loss,\"r--\")\n",
    "plt.plot(epoch_count,test_loss,\"b--\")\n",
    "plt.legend([\"Training Loss\",\"Test Loss\"])\n",
    "plt.xlabel(\"Epoch\")\n",
    "plt.ylabel(\"Loss\")\n",
    "plt.show()"
   ]
  },
  {
   "cell_type": "code",
   "execution_count": null,
   "id": "933d26cd",
   "metadata": {},
   "outputs": [],
   "source": []
  }
 ],
 "metadata": {
  "kernelspec": {
   "display_name": "Python 3 (ipykernel)",
   "language": "python",
   "name": "python3"
  },
  "language_info": {
   "codemirror_mode": {
    "name": "ipython",
    "version": 3
   },
   "file_extension": ".py",
   "mimetype": "text/x-python",
   "name": "python",
   "nbconvert_exporter": "python",
   "pygments_lexer": "ipython3",
   "version": "3.9.12"
  }
 },
 "nbformat": 4,
 "nbformat_minor": 5
}
